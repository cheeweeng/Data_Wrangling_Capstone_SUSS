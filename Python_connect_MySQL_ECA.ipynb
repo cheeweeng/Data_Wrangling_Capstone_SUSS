{
 "cells": [
  {
   "cell_type": "code",
   "execution_count": 1,
   "id": "7798efdc",
   "metadata": {},
   "outputs": [
    {
     "name": "stdout",
     "output_type": "stream",
     "text": [
      "Requirement already satisfied: mysql-connector-python in c:\\users\\chee wee\\anaconda3\\lib\\site-packages (8.0.31)\n",
      "Requirement already satisfied: protobuf<=3.20.1,>=3.11.0 in c:\\users\\chee wee\\anaconda3\\lib\\site-packages (from mysql-connector-python) (3.19.1)\n",
      "Note: you may need to restart the kernel to use updated packages.\n"
     ]
    }
   ],
   "source": [
    "pip install mysql-connector-python"
   ]
  },
  {
   "cell_type": "code",
   "execution_count": 1,
   "id": "3ab0696a",
   "metadata": {},
   "outputs": [
    {
     "name": "stdout",
     "output_type": "stream",
     "text": [
      "Successfully imported 6095 rows into ECA_data_raw.\n",
      "MySQL connection closed.\n"
     ]
    }
   ],
   "source": [
    "import csv\n",
    "import mysql.connector\n",
    "from mysql.connector import Error\n",
    "\n",
    "def main():\n",
    "    # Database configuration (update with your credentials)\n",
    "    config = {\n",
    "        'host': 'localhost',\n",
    "        'user': 'root',\n",
    "        'password': 'mango4673',\n",
    "        'database': 'anl503_eca'\n",
    "    }\n",
    "    \n",
    "    # CSV file path\n",
    "    csv_file_path = 'ECA_data_raw.csv'\n",
    "    \n",
    "    try:\n",
    "        # Step 1: Read CSV file\n",
    "        with open(csv_file_path, 'r', encoding='utf-8') as file:\n",
    "            csv_reader = csv.DictReader(file)\n",
    "            headers = csv_reader.fieldnames\n",
    "            data = [row for row in csv_reader]\n",
    "            \n",
    "        # Step 2: Connect to MySQL\n",
    "        conn = mysql.connector.connect(**config)\n",
    "        cursor = conn.cursor()\n",
    "        \n",
    "        # Step 3: Create table if not exists\n",
    "        create_table_query = (\n",
    "            f\"CREATE TABLE IF NOT EXISTS ECA_data_raw (\"\n",
    "            + \", \".join([f\"`{header}` VARCHAR(255)\" for header in headers])\n",
    "            + \")\"\n",
    "        )\n",
    "        cursor.execute(create_table_query)\n",
    "        \n",
    "        # Step 4: Prepare and execute insert query\n",
    "        columns = \", \".join([f\"`{header}`\" for header in headers])\n",
    "        placeholders = \", \".join(['%s'] * len(headers))\n",
    "        insert_query = f\"INSERT INTO ECA_data_raw ({columns}) VALUES ({placeholders})\"\n",
    "        \n",
    "        # Convert data rows to tuples in the correct order\n",
    "        values = []\n",
    "        for row in data:\n",
    "            row_values = [row[header] for header in headers]\n",
    "            values.append(tuple(row_values))\n",
    "            \n",
    "        cursor.executemany(insert_query, values)\n",
    "        conn.commit()\n",
    "        \n",
    "        print(f\"Successfully imported {len(data)} rows into ECA_data_raw.\")\n",
    "        \n",
    "    except FileNotFoundError:\n",
    "        print(f\"Error: CSV file not found at {csv_file_path}\")\n",
    "    except Error as e:\n",
    "        print(f\"MySQL Error: {e}\")\n",
    "    finally:\n",
    "        if conn.is_connected():\n",
    "            cursor.close()\n",
    "            conn.close()\n",
    "            print(\"MySQL connection closed.\")\n",
    "\n",
    "if __name__ == \"__main__\":\n",
    "    main()"
   ]
  },
  {
   "cell_type": "code",
   "execution_count": null,
   "id": "604752a0",
   "metadata": {},
   "outputs": [],
   "source": []
  }
 ],
 "metadata": {
  "kernelspec": {
   "display_name": "Python 3 (ipykernel)",
   "language": "python",
   "name": "python3"
  },
  "language_info": {
   "codemirror_mode": {
    "name": "ipython",
    "version": 3
   },
   "file_extension": ".py",
   "mimetype": "text/x-python",
   "name": "python",
   "nbconvert_exporter": "python",
   "pygments_lexer": "ipython3",
   "version": "3.9.12"
  }
 },
 "nbformat": 4,
 "nbformat_minor": 5
}
